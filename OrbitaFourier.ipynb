{
  "nbformat": 4,
  "nbformat_minor": 0,
  "metadata": {
    "colab": {
      "provenance": [],
      "authorship_tag": "ABX9TyMQEsPZ7BdYSv1cgUfJv0lQ",
      "include_colab_link": true
    },
    "kernelspec": {
      "name": "python3",
      "display_name": "Python 3"
    },
    "language_info": {
      "name": "python"
    }
  },
  "cells": [
    {
      "cell_type": "markdown",
      "metadata": {
        "id": "view-in-github",
        "colab_type": "text"
      },
      "source": [
        "<a href=\"https://colab.research.google.com/github/AatonSsneider/astronomy/blob/master/OrbitaFourier.ipynb\" target=\"_parent\"><img src=\"https://colab.research.google.com/assets/colab-badge.svg\" alt=\"Open In Colab\"/></a>"
      ]
    },
    {
      "cell_type": "code",
      "source": [
        "!pip install numpy matplotlib visual vpython\n",
        "\n",
        "\n",
        "from matplotlib import *\n",
        "from vpython import *\n",
        "import vpython\n",
        "import math\n",
        "G= 39.4784176\n",
        "pi = 3.141592654\n",
        "dospi=2*pi\n",
        "pimedios=pi/2\n",
        "rship=1.01\n",
        "rmarte=1.53 #Distancia media al Sol del planeta de dealstino\n",
        "mmarte=3.214e-7 #Masa del planeta de destino\n",
        "vmarte=math.sqrt(G/rmarte)\n",
        "wmarte=vmarte/rmarte\n",
        "vship=math.sqrt(2*G*rmarte/rship/(rship+rmarte))\n",
        "a=(rship+rmarte)*0.5\n",
        "T=a**1.5\n",
        "ANG=pi-wmarte*T/2\n",
        "print('Posición angular inicial:', ANG * 180 / pi)\n",
        "sa = math.sin(ANG)\n",
        "ca = math.cos(ANG)\n",
        "sca = math.sin(pimedios+ANG)\n",
        "cca = math.cos(pimedios+ANG)\n",
        "Rmin=rmarte*(mmarte)**0.4\n",
        "Sun = sphere(pos=(0,0,0), radius=0.05, color=color.yellow,\n",
        " make_trail=True, interval=10)\n",
        "Sun.mass = 1\n",
        "Sun.v = vector(0, 0, 0)\n",
        "Earth = sphere(pos=(1,0,0), radius=0.03, color=color.blue,\n",
        " make_trail=True, interval=10)\n",
        "Earth.mass = 3.004e-6\n",
        "Earth.v = vector(0, 6.283, 0)\n",
        "Mars = sphere(pos=(rmarte*ca,rmarte*sa,0), radius=0.03, color=color.red,\n",
        " make_trail=True, interval=10)\n",
        "Mars.mass = mmarte\n",
        "Mars.v = vector(vmarte*cca, vmarte*sca, 0)\n",
        "Ship = sphere(pos=(rship, 0, 0), radius=0.01, color=color.orange,\n",
        " make_trail=True, interval=10)\n",
        "Ship.mass = 3.214e-28\n",
        "Ship.v = vector(0, vship, 0)\n",
        "dt = 2.73785078e-4\n",
        "print ('Radio de influencia del planeta, ', Rmin)\n",
        "flag=0\n",
        "while True:\n",
        "    rate(100)\n",
        "    for body in [Earth, Mars, Ship]:\n",
        "        if body == Ship:\n",
        "            DM = body.pos - Mars.pos\n",
        "            DS = body.pos - Sun.pos\n",
        "            if mag(DM) > Rmin:\n",
        "                as1 = -G * Sun.mass * DS / mag(DS) ** 3\n",
        "                body.pos += body.v * dt + 0.5 * as1 * dt * dt\n",
        "                DS = body.pos - Sun.pos\n",
        "                as2 = -G * Sun.mass * DS / mag(DS) ** 3\n",
        "                body.v += 0.5 * (as1 + as2) * dt\n",
        "        else:\n",
        "            if flag == 0:\n",
        "                print(mag(DM))\n",
        "            Rmin *= 1\n",
        "            R = DM\n",
        "            Radio = mag(DM)\n",
        "            flag = 1\n",
        "            v = math.sqrt(G * Mars.mass / Radio)\n",
        "            w = v / Radio\n",
        "            if R[0] == 0:\n",
        "                if R[1] > 0:\n",
        "                    thita = pi\n",
        "                else:\n",
        "                    thita = -pi\n",
        "            else:\n",
        "                thita = math.atan(R[1] / R[0])\n",
        "            if R[0] < 0:\n",
        "                thita += pi\n",
        "            if thita > dospi:\n",
        "                thita -= dospi\n",
        "            vnvector = vector(v * math.sin(thita + pi / 2), v * math.cos(thita + pi / 2), 0)\n",
        "            vtotal = vnvector + Mars.v\n",
        "            R[1] = math.sin(thita) * Radio\n",
        "            R[0] = math.cos(thita) * Radio\n",
        "            R[2] = 0\n",
        "            body.pos = R + Mars.pos\n",
        "            thita += w * dt\n",
        "\n",
        "        distance = body.pos - Sun.pos\n",
        "        a1 = -G * Sun.mass * distance / mag(distance) ** 3\n",
        "        body.pos += body.v * dt + 0.5 * a1 * dt * dt\n",
        "        distance = body.pos - Sun.pos\n",
        "        a2 = -G * Sun.mass * distance / mag(distance) ** 3\n",
        "        body.v += 0.5 * (a1 + a2) * dt\n"
      ],
      "metadata": {
        "colab": {
          "base_uri": "https://localhost:8080/",
          "height": 339
        },
        "id": "VxrQDVyf7gfq",
        "outputId": "18ca6f69-99be-4d1e-9569-0410629d4ac6"
      },
      "execution_count": 27,
      "outputs": [
        {
          "output_type": "stream",
          "name": "stderr",
          "text": [
            "Exception ignored in: <function standardAttributes.__del__ at 0x7f2690e413f0>\n",
            "Traceback (most recent call last):\n",
            "  File \"/usr/local/lib/python3.10/dist-packages/vpython/vpython.py\", line 1159, in __del__\n",
            "    super(standardAttributes, self).__del__()\n",
            "  File \"/usr/local/lib/python3.10/dist-packages/vpython/vpython.py\", line 340, in __del__\n",
            "    cmd = {\"cmd\": \"delete\", \"idx\": self.idx}\n",
            "AttributeError: 'sphere' object has no attribute 'idx'\n"
          ]
        },
        {
          "output_type": "stream",
          "name": "stdout",
          "text": [
            "Looking in indexes: https://pypi.org/simple, https://us-python.pkg.dev/colab-wheels/public/simple/\n",
            "Requirement already satisfied: numpy in /usr/local/lib/python3.10/dist-packages (1.22.4)\n",
            "Requirement already satisfied: matplotlib in /usr/local/lib/python3.10/dist-packages (3.7.1)\n",
            "\u001b[31mERROR: Could not find a version that satisfies the requirement visual (from versions: none)\u001b[0m\u001b[31m\n",
            "\u001b[0m\u001b[31mERROR: No matching distribution found for visual\u001b[0m\u001b[31m\n",
            "\u001b[0mPosición angular inicial: 43.87404480064129\n"
          ]
        },
        {
          "output_type": "error",
          "ename": "SystemExit",
          "evalue": "ignored",
          "traceback": [
            "An exception has occurred, use %tb to see the full traceback.\n",
            "\u001b[0;31mSystemExit\u001b[0m\u001b[0;31m:\u001b[0m 0\n"
          ]
        }
      ]
    }
  ]
}